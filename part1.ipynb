{
  "cells": [
    {
      "cell_type": "code",
      "execution_count": 1,
      "metadata": {
        "colab": {
          "base_uri": "https://localhost:8080/"
        },
        "id": "A3ThnRa2-yhK",
        "outputId": "9dc766ef-6566-40ed-c706-f6d59fea509e"
      },
      "outputs": [
        {
          "output_type": "stream",
          "name": "stdout",
          "text": [
            "Downloading https://www.cs.toronto.edu/~kriz/cifar-100-python.tar.gz to ./data/cifar-100-python.tar.gz\n"
          ]
        },
        {
          "output_type": "stream",
          "name": "stderr",
          "text": [
            "100%|██████████| 169001437/169001437 [00:01<00:00, 105635254.50it/s]\n"
          ]
        },
        {
          "output_type": "stream",
          "name": "stdout",
          "text": [
            "Extracting ./data/cifar-100-python.tar.gz to ./data\n",
            "Files already downloaded and verified\n"
          ]
        }
      ],
      "source": [
        "import torch\n",
        "import torchvision\n",
        "import torchvision.transforms as transforms\n",
        "import torch.nn as nn\n",
        "import torch.optim as optim\n",
        "import torch.nn.functional as F\n",
        "from torchvision import models\n",
        "\n",
        "# Set the device to GPU if available, otherwise use CPU\n",
        "device = torch.device(\"cuda\" if torch.cuda.is_available() else \"cpu\")\n",
        "transform = transforms.Compose([ transforms.Resize((224,224)), transforms.RandomHorizontalFlip(), transforms.ToTensor(), transforms.Normalize( (0.485, 0.456, 0.406), (0.229, 0.224, 0.225) ) ])\n",
        "# Define data transforms and load CIFAR-100 dataset\n",
        "\n",
        "trainset = torchvision.datasets.CIFAR100(root='./data', train=True, download=True, transform=transform)\n",
        "trainloader = torch.utils.data.DataLoader(trainset, batch_size=64, shuffle=True, num_workers=2)\n",
        "\n",
        "testset = torchvision.datasets.CIFAR100(root='./data', train=False, download=True, transform=transform)\n",
        "testloader = torch.utils.data.DataLoader(testset, batch_size=64, shuffle=False, num_workers=2)\n",
        "\n"
      ]
    },
    {
      "cell_type": "code",
      "execution_count": 2,
      "metadata": {
        "colab": {
          "base_uri": "https://localhost:8080/"
        },
        "id": "E7YIWvZW-3Fw",
        "outputId": "6fb92e2c-9513-452b-d3a2-c142bd9e9d31"
      },
      "outputs": [
        {
          "output_type": "stream",
          "name": "stderr",
          "text": [
            "/usr/local/lib/python3.10/dist-packages/torchvision/models/_utils.py:208: UserWarning: The parameter 'pretrained' is deprecated since 0.13 and may be removed in the future, please use 'weights' instead.\n",
            "  warnings.warn(\n",
            "/usr/local/lib/python3.10/dist-packages/torchvision/models/_utils.py:223: UserWarning: Arguments other than a weight enum or `None` for 'weights' are deprecated since 0.13 and may be removed in the future. The current behavior is equivalent to passing `weights=VGG16_Weights.IMAGENET1K_V1`. You can also use `weights=VGG16_Weights.DEFAULT` to get the most up-to-date weights.\n",
            "  warnings.warn(msg)\n",
            "Downloading: \"https://download.pytorch.org/models/vgg16-397923af.pth\" to /root/.cache/torch/hub/checkpoints/vgg16-397923af.pth\n",
            "100%|██████████| 528M/528M [00:03<00:00, 160MB/s]\n"
          ]
        },
        {
          "output_type": "stream",
          "name": "stdout",
          "text": [
            "Epoch[ 1, 200] loss: 3.095\n",
            "Epoch[ 1, 400] loss: 1.662\n",
            "Epoch[ 1, 600] loss: 1.448\n",
            "Epoch[ 2, 200] loss: 1.152\n",
            "Epoch[ 2, 400] loss: 1.102\n",
            "Epoch[ 2, 600] loss: 1.080\n",
            "Epoch[ 3, 200] loss: 0.893\n",
            "Epoch[ 3, 400] loss: 0.878\n",
            "Epoch[ 3, 600] loss: 0.859\n",
            "Epoch[ 4, 200] loss: 0.717\n",
            "Epoch[ 4, 400] loss: 0.745\n",
            "Epoch[ 4, 600] loss: 0.756\n",
            "Epoch[ 5, 200] loss: 0.619\n",
            "Epoch[ 5, 400] loss: 0.624\n",
            "Epoch[ 5, 600] loss: 0.654\n",
            "Epoch[ 6, 200] loss: 0.523\n",
            "Epoch[ 6, 400] loss: 0.548\n",
            "Epoch[ 6, 600] loss: 0.545\n",
            "Epoch[ 7, 200] loss: 0.444\n",
            "Epoch[ 7, 400] loss: 0.470\n",
            "Epoch[ 7, 600] loss: 0.483\n",
            "Epoch[ 8, 200] loss: 0.388\n",
            "Epoch[ 8, 400] loss: 0.397\n",
            "Epoch[ 8, 600] loss: 0.400\n",
            "Epoch[ 9, 200] loss: 0.329\n",
            "Epoch[ 9, 400] loss: 0.339\n",
            "Epoch[ 9, 600] loss: 0.349\n",
            "Epoch[ 10, 200] loss: 0.298\n",
            "Epoch[ 10, 400] loss: 0.302\n",
            "Epoch[ 10, 600] loss: 0.311\n",
            "Finished Training\n",
            "Accuracy on the test set: 74.14%\n"
          ]
        }
      ],
      "source": [
        "# Define the VGG16 model with custom classifier for 100 classes\n",
        "model = models.vgg16(pretrained=True)  # Load pre-trained weights\n",
        "model.classifier[6] = nn.Linear(4096, 100)  # Change the output layer for 100 classes\n",
        "\n",
        "# Send the model to the selected device\n",
        "model.to(device)\n",
        "\n",
        "# Define the loss function and optimizer\n",
        "criterion = nn.CrossEntropyLoss()\n",
        "optimizer = optim.SGD(model.parameters(), lr=0.001, momentum=0.9)\n",
        "\n",
        "# Training loop\n",
        "for epoch in range(10):  # Adjust the number of epochs as needed\n",
        "    running_loss = 0.0\n",
        "    for i, data in enumerate(trainloader, 0):\n",
        "        inputs, labels = data\n",
        "        inputs, labels = inputs.to(device), labels.to(device)\n",
        "\n",
        "        optimizer.zero_grad()\n",
        "\n",
        "        outputs = model(inputs)\n",
        "        loss = criterion(outputs, labels)\n",
        "        loss.backward()\n",
        "        optimizer.step()\n",
        "\n",
        "        running_loss += loss.item()\n",
        "        if i % 200 == 199:  # Print every 200 batches\n",
        "            print(f\"Epoch[ {epoch + 1}, {i + 1}] loss: {running_loss / 200:.3f}\")\n",
        "            running_loss = 0.0\n",
        "\n",
        "print(\"Finished Training\")\n",
        "\n",
        "# Evaluate the model on the test set\n",
        "correct = 0\n",
        "total = 0\n",
        "with torch.no_grad():\n",
        "    for data in testloader:\n",
        "        images, labels = data\n",
        "        images, labels = images.to(device), labels.to(device)\n",
        "        outputs = model(images)\n",
        "        _, predicted = torch.max(outputs, 1)\n",
        "        total += labels.size(0)\n",
        "        correct += (predicted == labels).sum().item()\n",
        "\n",
        "print(f\"Accuracy on the test set: {100 * correct / total:.2f}%\")\n"
      ]
    },
    {
      "cell_type": "code",
      "execution_count": 3,
      "metadata": {
        "id": "VDqVviRc-_mk",
        "colab": {
          "base_uri": "https://localhost:8080/"
        },
        "outputId": "b059bd32-8bf3-46d7-a9b2-0cdfa6afd29a"
      },
      "outputs": [
        {
          "output_type": "stream",
          "name": "stdout",
          "text": [
            "Accuracy on the training set: 91.98%\n"
          ]
        }
      ],
      "source": [
        "# Evaluate the model on the training set\n",
        "train_correct = 0\n",
        "train_total = 0\n",
        "with torch.no_grad():\n",
        "    for data in trainloader:\n",
        "        images, labels = data\n",
        "        images, labels = images.to(device), labels.to(device)\n",
        "        outputs = model(images)\n",
        "        _, predicted = torch.max(outputs, 1)\n",
        "        train_total += labels.size(0)\n",
        "        train_correct += (predicted == labels).sum().item()\n",
        "\n",
        "print(f\"Accuracy on the training set: {100 * train_correct / train_total:.2f}%\")\n"
      ]
    }
  ],
  "metadata": {
    "colab": {
      "provenance": [],
      "gpuType": "T4"
    },
    "kernelspec": {
      "display_name": "Python 3",
      "name": "python3"
    },
    "language_info": {
      "name": "python"
    },
    "accelerator": "GPU"
  },
  "nbformat": 4,
  "nbformat_minor": 0
}