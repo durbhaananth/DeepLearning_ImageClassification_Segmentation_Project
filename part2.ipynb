{
  "cells": [
    {
      "cell_type": "code",
      "execution_count": 1,
      "metadata": {
        "colab": {
          "base_uri": "https://localhost:8080/"
        },
        "id": "VqY7kZ42COOh",
        "outputId": "c02a838d-51dd-4f52-f9c4-e2ef66c378d0"
      },
      "outputs": [
        {
          "output_type": "stream",
          "name": "stdout",
          "text": [
            "Downloading https://www.cs.toronto.edu/~kriz/cifar-100-python.tar.gz to ./data/cifar-100-python.tar.gz\n"
          ]
        },
        {
          "output_type": "stream",
          "name": "stderr",
          "text": [
            "100%|██████████| 169001437/169001437 [00:02<00:00, 75742202.84it/s] \n"
          ]
        },
        {
          "output_type": "stream",
          "name": "stdout",
          "text": [
            "Extracting ./data/cifar-100-python.tar.gz to ./data\n",
            "Files already downloaded and verified\n",
            "Epoch 1, Loss: 4.144, Validation Accuracy: 13.58%\n",
            "Epoch 2, Loss: 3.344, Validation Accuracy: 24.36%\n",
            "Epoch 3, Loss: 2.863, Validation Accuracy: 31.14%\n",
            "Epoch 4, Loss: 2.496, Validation Accuracy: 35.17%\n",
            "Epoch 5, Loss: 2.187, Validation Accuracy: 39.10%\n",
            "Epoch 6, Loss: 1.906, Validation Accuracy: 40.94%\n",
            "Epoch 7, Loss: 1.629, Validation Accuracy: 42.14%\n",
            "Epoch 8, Loss: 1.353, Validation Accuracy: 40.63%\n",
            "Epoch 9, Loss: 1.093, Validation Accuracy: 41.06%\n",
            "Epoch 10, Loss: 0.838, Validation Accuracy: 40.82%\n",
            "Epoch 11, Loss: 0.635, Validation Accuracy: 40.53%\n",
            "Epoch 12, Loss: 0.497, Validation Accuracy: 41.01%\n",
            "Epoch 13, Loss: 0.414, Validation Accuracy: 40.03%\n",
            "Epoch 14, Loss: 0.349, Validation Accuracy: 39.28%\n",
            "Epoch 15, Loss: 0.294, Validation Accuracy: 40.02%\n",
            "Epoch 16, Loss: 0.235, Validation Accuracy: 39.70%\n",
            "Epoch 17, Loss: 0.214, Validation Accuracy: 40.49%\n",
            "Epoch 18, Loss: 0.191, Validation Accuracy: 39.63%\n",
            "Epoch 19, Loss: 0.190, Validation Accuracy: 40.36%\n",
            "Epoch 20, Loss: 0.157, Validation Accuracy: 38.78%\n",
            "Epoch 21, Loss: 0.164, Validation Accuracy: 39.91%\n",
            "Epoch 22, Loss: 0.125, Validation Accuracy: 40.10%\n",
            "Epoch 23, Loss: 0.121, Validation Accuracy: 40.03%\n",
            "Epoch 24, Loss: 0.151, Validation Accuracy: 39.35%\n",
            "Epoch 25, Loss: 0.132, Validation Accuracy: 38.90%\n",
            "Epoch 26, Loss: 0.117, Validation Accuracy: 38.69%\n",
            "Epoch 27, Loss: 0.125, Validation Accuracy: 39.90%\n",
            "Epoch 28, Loss: 0.112, Validation Accuracy: 39.02%\n",
            "Epoch 29, Loss: 0.117, Validation Accuracy: 39.61%\n",
            "Epoch 30, Loss: 0.121, Validation Accuracy: 39.87%\n",
            "Finished Training\n",
            "Testing Accuracy of the Best Model: 42.14%\n"
          ]
        }
      ],
      "source": [
        "import torch\n",
        "import torch.nn as nn\n",
        "import torch.optim as optim\n",
        "import torchvision\n",
        "import torchvision.transforms as transforms\n",
        "import torch.nn.functional as F\n",
        "\n",
        "# Define a simple CNN architecture\n",
        "class Net(nn.Module):\n",
        "    def __init__(self):\n",
        "        super(Net, self).__init__()\n",
        "        self.conv1 = nn.Conv2d(3, 32, kernel_size=3, padding=1)\n",
        "        self.conv2 = nn.Conv2d(32, 64, kernel_size=3, padding=1)\n",
        "        self.conv3 = nn.Conv2d(64, 128, kernel_size=3, padding=1)\n",
        "        self.pool = nn.MaxPool2d(2, 2)\n",
        "        self.fc1 = nn.Linear(128 * 4 * 4, 512)\n",
        "        self.fc2 = nn.Linear(512, 100)\n",
        "\n",
        "    def forward(self, x):\n",
        "        x = self.pool(F.relu(self.conv1(x)))\n",
        "        x = self.pool(F.relu(self.conv2(x)))\n",
        "        x = self.pool(F.relu(self.conv3(x)))\n",
        "        x = x.view(-1, 128 * 4 * 4)\n",
        "        x = F.relu(self.fc1(x))\n",
        "        x = self.fc2(x)\n",
        "        return x\n",
        "\n",
        "\n",
        "# Define data transforms and load CIFAR-100 dataset\n",
        "transform = transforms.Compose([transforms.ToTensor(), transforms.Normalize((0.5, 0.5, 0.5), (0.5, 0.5, 0.5))])\n",
        "\n",
        "trainset = torchvision.datasets.CIFAR100(root='./data', train=True, download=True, transform=transform)\n",
        "trainloader = torch.utils.data.DataLoader(trainset, batch_size=64, shuffle=True, num_workers=2)\n",
        "\n",
        "testset = torchvision.datasets.CIFAR100(root='./data', train=False, download=True, transform=transform)\n",
        "testloader = torch.utils.data.DataLoader(testset, batch_size=64, shuffle=False, num_workers=2)\n",
        "\n",
        "# Initialize the network, loss function, and optimizer\n",
        "net = Net()\n",
        "criterion = nn.CrossEntropyLoss()\n",
        "optimizer = optim.SGD(net.parameters(), lr=0.01, momentum=0.9)\n",
        "\n",
        "# Training loop\n",
        "best_accuracy = 0\n",
        "for epoch in range(30):\n",
        "    running_loss = 0.0\n",
        "    for i, data in enumerate(trainloader, 0):\n",
        "        inputs, labels = data\n",
        "        optimizer.zero_grad()\n",
        "        outputs = net(inputs)\n",
        "        loss = criterion(outputs, labels)\n",
        "        loss.backward()\n",
        "        optimizer.step()\n",
        "        running_loss += loss.item()\n",
        "\n",
        "    # Validation accuracy\n",
        "    correct = 0\n",
        "    total = 0\n",
        "    with torch.no_grad():\n",
        "        for data in testloader:\n",
        "            images, labels = data\n",
        "            outputs = net(images)\n",
        "            _, predicted = torch.max(outputs.data, 1)\n",
        "            total += labels.size(0)\n",
        "            correct += (predicted == labels).sum().item()\n",
        "    accuracy = 100 * correct / total\n",
        "    print(f\"Epoch {epoch+1}, Loss: {running_loss / (i+1):.3f}, Validation Accuracy: {accuracy:.2f}%\")\n",
        "\n",
        "    # Save the model with the best validation accuracy\n",
        "    if accuracy > best_accuracy:\n",
        "        best_accuracy = accuracy\n",
        "        torch.save(net.state_dict(), \"best_model.pth\")\n",
        "\n",
        "print(\"Finished Training\")\n",
        "\n",
        "# Load the best model\n",
        "net.load_state_dict(torch.load(\"best_model.pth\"))\n",
        "\n",
        "# Evaluate the best model on the test set\n",
        "correct = 0\n",
        "total = 0\n",
        "with torch.no_grad():\n",
        "    for data in testloader:\n",
        "        images, labels = data\n",
        "        outputs = net(images)\n",
        "        _, predicted = torch.max(outputs.data, 1)\n",
        "        total += labels.size(0)\n",
        "        correct += (predicted == labels).sum().item()\n",
        "test_accuracy = 100 * correct / total\n",
        "print(f\"Testing Accuracy of the Best Model: {test_accuracy:.2f}%\")\n"
      ]
    }
  ],
  "metadata": {
    "colab": {
      "provenance": [],
      "gpuType": "T4"
    },
    "kernelspec": {
      "display_name": "Python 3",
      "name": "python3"
    },
    "language_info": {
      "name": "python"
    },
    "accelerator": "GPU"
  },
  "nbformat": 4,
  "nbformat_minor": 0
}